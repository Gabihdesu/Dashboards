{
 "cells": [
  {
   "cell_type": "markdown",
   "id": "baed196a",
   "metadata": {},
   "source": [
    "# <font color='blue'>Data Science Academy</font>\n",
    "\n",
    "## <font color='blue'>Microsoft Power BI Para Business Intelligence e Data Science</font>\n",
    "\n",
    "## <font color='blue'>Machine Learning com Linguagem Python e Power BI Dentro do Jupyter Notebook</font>\n",
    "\n",
    "Problema de Negócio:\n",
    "\n",
    "Considerando dados históricos de clientes que realizaram compras em nossa empresa, faça o agrupamento (segmentação) dos clientes por similaridade de características em 3 grupos e envie o relatório para a equipe de Marketing."
   ]
  },
  {
   "cell_type": "markdown",
   "id": "390e2f3d",
   "metadata": {},
   "source": [
    "![DSA](imagens/Lab7.png)"
   ]
  },
  {
   "cell_type": "code",
   "execution_count": 1,
   "id": "22500ca4",
   "metadata": {},
   "outputs": [
    {
     "name": "stdout",
     "output_type": "stream",
     "text": [
      "Versão da Linguagem Python Usada Neste Jupyter Notebook: 3.11.4\n"
     ]
    }
   ],
   "source": [
    "# Versão da Linguagem Python\n",
    "from platform import python_version\n",
    "print('Versão da Linguagem Python Usada Neste Jupyter Notebook:', python_version())"
   ]
  },
  {
   "cell_type": "code",
   "execution_count": 2,
   "id": "64c49233",
   "metadata": {},
   "outputs": [],
   "source": [
    "# Imports\n",
    "import pandas as pd\n",
    "from sklearn.cluster import KMeans\n",
    "from sklearn.preprocessing import StandardScaler"
   ]
  },
  {
   "cell_type": "markdown",
   "id": "400c15c4",
   "metadata": {},
   "source": [
    "## Carregando os Dados"
   ]
  },
  {
   "cell_type": "code",
   "execution_count": 3,
   "id": "8cc1cb59",
   "metadata": {},
   "outputs": [],
   "source": [
    "# Carrega os dados\n",
    "df_dsa = pd.read_csv('dados/dados_clientes.csv')"
   ]
  },
  {
   "cell_type": "code",
   "execution_count": 4,
   "id": "839e732b",
   "metadata": {},
   "outputs": [
    {
     "data": {
      "text/plain": [
       "pandas.core.frame.DataFrame"
      ]
     },
     "execution_count": 4,
     "metadata": {},
     "output_type": "execute_result"
    }
   ],
   "source": [
    "type(df_dsa)"
   ]
  },
  {
   "cell_type": "code",
   "execution_count": 5,
   "id": "e9684733",
   "metadata": {},
   "outputs": [
    {
     "data": {
      "text/html": [
       "<div>\n",
       "<style scoped>\n",
       "    .dataframe tbody tr th:only-of-type {\n",
       "        vertical-align: middle;\n",
       "    }\n",
       "\n",
       "    .dataframe tbody tr th {\n",
       "        vertical-align: top;\n",
       "    }\n",
       "\n",
       "    .dataframe thead th {\n",
       "        text-align: right;\n",
       "    }\n",
       "</style>\n",
       "<table border=\"1\" class=\"dataframe\">\n",
       "  <thead>\n",
       "    <tr style=\"text-align: right;\">\n",
       "      <th></th>\n",
       "      <th>id</th>\n",
       "      <th>idade</th>\n",
       "      <th>renda_anual</th>\n",
       "      <th>pontuacao_gastos</th>\n",
       "    </tr>\n",
       "  </thead>\n",
       "  <tbody>\n",
       "    <tr>\n",
       "      <th>0</th>\n",
       "      <td>1</td>\n",
       "      <td>56</td>\n",
       "      <td>94740</td>\n",
       "      <td>90</td>\n",
       "    </tr>\n",
       "    <tr>\n",
       "      <th>1</th>\n",
       "      <td>2</td>\n",
       "      <td>69</td>\n",
       "      <td>136352</td>\n",
       "      <td>50</td>\n",
       "    </tr>\n",
       "    <tr>\n",
       "      <th>2</th>\n",
       "      <td>3</td>\n",
       "      <td>46</td>\n",
       "      <td>86617</td>\n",
       "      <td>62</td>\n",
       "    </tr>\n",
       "    <tr>\n",
       "      <th>3</th>\n",
       "      <td>4</td>\n",
       "      <td>32</td>\n",
       "      <td>114841</td>\n",
       "      <td>97</td>\n",
       "    </tr>\n",
       "    <tr>\n",
       "      <th>4</th>\n",
       "      <td>5</td>\n",
       "      <td>60</td>\n",
       "      <td>36896</td>\n",
       "      <td>51</td>\n",
       "    </tr>\n",
       "    <tr>\n",
       "      <th>5</th>\n",
       "      <td>6</td>\n",
       "      <td>25</td>\n",
       "      <td>145729</td>\n",
       "      <td>37</td>\n",
       "    </tr>\n",
       "    <tr>\n",
       "      <th>6</th>\n",
       "      <td>7</td>\n",
       "      <td>38</td>\n",
       "      <td>66175</td>\n",
       "      <td>96</td>\n",
       "    </tr>\n",
       "    <tr>\n",
       "      <th>7</th>\n",
       "      <td>8</td>\n",
       "      <td>56</td>\n",
       "      <td>27805</td>\n",
       "      <td>87</td>\n",
       "    </tr>\n",
       "    <tr>\n",
       "      <th>8</th>\n",
       "      <td>9</td>\n",
       "      <td>36</td>\n",
       "      <td>25237</td>\n",
       "      <td>78</td>\n",
       "    </tr>\n",
       "    <tr>\n",
       "      <th>9</th>\n",
       "      <td>10</td>\n",
       "      <td>40</td>\n",
       "      <td>135247</td>\n",
       "      <td>29</td>\n",
       "    </tr>\n",
       "  </tbody>\n",
       "</table>\n",
       "</div>"
      ],
      "text/plain": [
       "   id  idade  renda_anual  pontuacao_gastos\n",
       "0   1     56        94740                90\n",
       "1   2     69       136352                50\n",
       "2   3     46        86617                62\n",
       "3   4     32       114841                97\n",
       "4   5     60        36896                51\n",
       "5   6     25       145729                37\n",
       "6   7     38        66175                96\n",
       "7   8     56        27805                87\n",
       "8   9     36        25237                78\n",
       "9  10     40       135247                29"
      ]
     },
     "execution_count": 5,
     "metadata": {},
     "output_type": "execute_result"
    }
   ],
   "source": [
    "# Visualiza as 10 primeiras linhas\n",
    "df_dsa.head(10)"
   ]
  },
  {
   "cell_type": "markdown",
   "id": "f4c4fddc",
   "metadata": {},
   "source": [
    "## Análise Exploratória"
   ]
  },
  {
   "cell_type": "code",
   "execution_count": 14,
   "id": "854cd7a8",
   "metadata": {},
   "outputs": [
    {
     "data": {
      "text/html": [
       "<div>\n",
       "<style scoped>\n",
       "    .dataframe tbody tr th:only-of-type {\n",
       "        vertical-align: middle;\n",
       "    }\n",
       "\n",
       "    .dataframe tbody tr th {\n",
       "        vertical-align: top;\n",
       "    }\n",
       "\n",
       "    .dataframe thead th {\n",
       "        text-align: right;\n",
       "    }\n",
       "</style>\n",
       "<table border=\"1\" class=\"dataframe\">\n",
       "  <thead>\n",
       "    <tr style=\"text-align: right;\">\n",
       "      <th></th>\n",
       "      <th>idade</th>\n",
       "      <th>renda_anual</th>\n",
       "      <th>pontuacao_gastos</th>\n",
       "    </tr>\n",
       "  </thead>\n",
       "  <tbody>\n",
       "    <tr>\n",
       "      <th>count</th>\n",
       "      <td>500.000000</td>\n",
       "      <td>500.000000</td>\n",
       "      <td>500.000000</td>\n",
       "    </tr>\n",
       "    <tr>\n",
       "      <th>mean</th>\n",
       "      <td>44.732000</td>\n",
       "      <td>81557.166000</td>\n",
       "      <td>48.512000</td>\n",
       "    </tr>\n",
       "    <tr>\n",
       "      <th>std</th>\n",
       "      <td>15.239707</td>\n",
       "      <td>36764.379945</td>\n",
       "      <td>29.556946</td>\n",
       "    </tr>\n",
       "    <tr>\n",
       "      <th>min</th>\n",
       "      <td>18.000000</td>\n",
       "      <td>20384.000000</td>\n",
       "      <td>0.000000</td>\n",
       "    </tr>\n",
       "    <tr>\n",
       "      <th>25%</th>\n",
       "      <td>32.000000</td>\n",
       "      <td>49172.750000</td>\n",
       "      <td>24.000000</td>\n",
       "    </tr>\n",
       "    <tr>\n",
       "      <th>50%</th>\n",
       "      <td>45.000000</td>\n",
       "      <td>79219.000000</td>\n",
       "      <td>48.500000</td>\n",
       "    </tr>\n",
       "    <tr>\n",
       "      <th>75%</th>\n",
       "      <td>57.000000</td>\n",
       "      <td>113017.250000</td>\n",
       "      <td>73.250000</td>\n",
       "    </tr>\n",
       "    <tr>\n",
       "      <th>max</th>\n",
       "      <td>70.000000</td>\n",
       "      <td>149695.000000</td>\n",
       "      <td>100.000000</td>\n",
       "    </tr>\n",
       "  </tbody>\n",
       "</table>\n",
       "</div>"
      ],
      "text/plain": [
       "            idade    renda_anual  pontuacao_gastos\n",
       "count  500.000000     500.000000        500.000000\n",
       "mean    44.732000   81557.166000         48.512000\n",
       "std     15.239707   36764.379945         29.556946\n",
       "min     18.000000   20384.000000          0.000000\n",
       "25%     32.000000   49172.750000         24.000000\n",
       "50%     45.000000   79219.000000         48.500000\n",
       "75%     57.000000  113017.250000         73.250000\n",
       "max     70.000000  149695.000000        100.000000"
      ]
     },
     "execution_count": 14,
     "metadata": {},
     "output_type": "execute_result"
    }
   ],
   "source": [
    "# Resumo estatístico\n",
    "df_dsa.iloc[:,1:].describe()"
   ]
  },
  {
   "cell_type": "markdown",
   "id": "0d3b7cf2",
   "metadata": {},
   "source": [
    "## Pré-Processamento dos Dados"
   ]
  },
  {
   "cell_type": "code",
   "execution_count": 15,
   "id": "cf8afdf6",
   "metadata": {},
   "outputs": [],
   "source": [
    "# Cria o padronizador dos dados\n",
    "padronizador = StandardScaler()\n",
    "\n",
    "# dados devem estar na mesma escala"
   ]
  },
  {
   "cell_type": "code",
   "execution_count": 16,
   "id": "fd03d713",
   "metadata": {},
   "outputs": [],
   "source": [
    "# Aplica o padronizador somente nas colunas de interesse\n",
    "dados_padronizados = padronizador.fit_transform(\n",
    "                    df_dsa[['idade', 'renda_anual', 'pontuacao_gastos']])"
   ]
  },
  {
   "cell_type": "code",
   "execution_count": 18,
   "id": "48dd9119",
   "metadata": {},
   "outputs": [],
   "source": [
    "# a separação em dados de teste servem para avaliar a acuracia do modelo"
   ]
  },
  {
   "cell_type": "code",
   "execution_count": 17,
   "id": "8d5e3ff4",
   "metadata": {},
   "outputs": [
    {
     "name": "stdout",
     "output_type": "stream",
     "text": [
      "[[ 0.74012478  0.35893538  1.40506904]\n",
      " [ 1.59401387  1.49192537  0.05039391]\n",
      " [ 0.08328703  0.13776654  0.45679645]\n",
      " ...\n",
      " [-0.31081563  0.32661636  0.18586143]\n",
      " [-1.23038848 -1.48706069  1.43893592]\n",
      " [-1.03333716 -0.96992912 -0.59307677]]\n"
     ]
    }
   ],
   "source": [
    "# Visualiza os dados\n",
    "print(dados_padronizados)"
   ]
  },
  {
   "cell_type": "markdown",
   "id": "b08df903",
   "metadata": {},
   "source": [
    "## Construção do Modelo de Machine Learning Para Segmentação de Clientes"
   ]
  },
  {
   "cell_type": "code",
   "execution_count": 19,
   "id": "3f60c1b0",
   "metadata": {},
   "outputs": [],
   "source": [
    "# Definimos o número de clusters (k)\n",
    "# queremos separa em 3 grupos\n",
    "# mas da para avaliar qual o melhor número de k com base na base de dados\n",
    "\n",
    "k = 3"
   ]
  },
  {
   "cell_type": "code",
   "execution_count": 20,
   "id": "7c1bf385",
   "metadata": {},
   "outputs": [],
   "source": [
    "# Criamos o modelo K-means\n",
    "kmeans = KMeans(n_clusters = k)"
   ]
  },
  {
   "cell_type": "code",
   "execution_count": 21,
   "id": "2a2c2995",
   "metadata": {},
   "outputs": [
    {
     "name": "stderr",
     "output_type": "stream",
     "text": [
      "C:\\Users\\gabri\\anaconda3\\Lib\\site-packages\\sklearn\\cluster\\_kmeans.py:1412: FutureWarning: The default value of `n_init` will change from 10 to 'auto' in 1.4. Set the value of `n_init` explicitly to suppress the warning\n",
      "  super()._check_params_vs_input(X, default_n_init=10)\n"
     ]
    },
    {
     "data": {
      "text/html": [
       "<style>#sk-container-id-1 {color: black;}#sk-container-id-1 pre{padding: 0;}#sk-container-id-1 div.sk-toggleable {background-color: white;}#sk-container-id-1 label.sk-toggleable__label {cursor: pointer;display: block;width: 100%;margin-bottom: 0;padding: 0.3em;box-sizing: border-box;text-align: center;}#sk-container-id-1 label.sk-toggleable__label-arrow:before {content: \"▸\";float: left;margin-right: 0.25em;color: #696969;}#sk-container-id-1 label.sk-toggleable__label-arrow:hover:before {color: black;}#sk-container-id-1 div.sk-estimator:hover label.sk-toggleable__label-arrow:before {color: black;}#sk-container-id-1 div.sk-toggleable__content {max-height: 0;max-width: 0;overflow: hidden;text-align: left;background-color: #f0f8ff;}#sk-container-id-1 div.sk-toggleable__content pre {margin: 0.2em;color: black;border-radius: 0.25em;background-color: #f0f8ff;}#sk-container-id-1 input.sk-toggleable__control:checked~div.sk-toggleable__content {max-height: 200px;max-width: 100%;overflow: auto;}#sk-container-id-1 input.sk-toggleable__control:checked~label.sk-toggleable__label-arrow:before {content: \"▾\";}#sk-container-id-1 div.sk-estimator input.sk-toggleable__control:checked~label.sk-toggleable__label {background-color: #d4ebff;}#sk-container-id-1 div.sk-label input.sk-toggleable__control:checked~label.sk-toggleable__label {background-color: #d4ebff;}#sk-container-id-1 input.sk-hidden--visually {border: 0;clip: rect(1px 1px 1px 1px);clip: rect(1px, 1px, 1px, 1px);height: 1px;margin: -1px;overflow: hidden;padding: 0;position: absolute;width: 1px;}#sk-container-id-1 div.sk-estimator {font-family: monospace;background-color: #f0f8ff;border: 1px dotted black;border-radius: 0.25em;box-sizing: border-box;margin-bottom: 0.5em;}#sk-container-id-1 div.sk-estimator:hover {background-color: #d4ebff;}#sk-container-id-1 div.sk-parallel-item::after {content: \"\";width: 100%;border-bottom: 1px solid gray;flex-grow: 1;}#sk-container-id-1 div.sk-label:hover label.sk-toggleable__label {background-color: #d4ebff;}#sk-container-id-1 div.sk-serial::before {content: \"\";position: absolute;border-left: 1px solid gray;box-sizing: border-box;top: 0;bottom: 0;left: 50%;z-index: 0;}#sk-container-id-1 div.sk-serial {display: flex;flex-direction: column;align-items: center;background-color: white;padding-right: 0.2em;padding-left: 0.2em;position: relative;}#sk-container-id-1 div.sk-item {position: relative;z-index: 1;}#sk-container-id-1 div.sk-parallel {display: flex;align-items: stretch;justify-content: center;background-color: white;position: relative;}#sk-container-id-1 div.sk-item::before, #sk-container-id-1 div.sk-parallel-item::before {content: \"\";position: absolute;border-left: 1px solid gray;box-sizing: border-box;top: 0;bottom: 0;left: 50%;z-index: -1;}#sk-container-id-1 div.sk-parallel-item {display: flex;flex-direction: column;z-index: 1;position: relative;background-color: white;}#sk-container-id-1 div.sk-parallel-item:first-child::after {align-self: flex-end;width: 50%;}#sk-container-id-1 div.sk-parallel-item:last-child::after {align-self: flex-start;width: 50%;}#sk-container-id-1 div.sk-parallel-item:only-child::after {width: 0;}#sk-container-id-1 div.sk-dashed-wrapped {border: 1px dashed gray;margin: 0 0.4em 0.5em 0.4em;box-sizing: border-box;padding-bottom: 0.4em;background-color: white;}#sk-container-id-1 div.sk-label label {font-family: monospace;font-weight: bold;display: inline-block;line-height: 1.2em;}#sk-container-id-1 div.sk-label-container {text-align: center;}#sk-container-id-1 div.sk-container {/* jupyter's `normalize.less` sets `[hidden] { display: none; }` but bootstrap.min.css set `[hidden] { display: none !important; }` so we also need the `!important` here to be able to override the default hidden behavior on the sphinx rendered scikit-learn.org. See: https://github.com/scikit-learn/scikit-learn/issues/21755 */display: inline-block !important;position: relative;}#sk-container-id-1 div.sk-text-repr-fallback {display: none;}</style><div id=\"sk-container-id-1\" class=\"sk-top-container\"><div class=\"sk-text-repr-fallback\"><pre>KMeans(n_clusters=3)</pre><b>In a Jupyter environment, please rerun this cell to show the HTML representation or trust the notebook. <br />On GitHub, the HTML representation is unable to render, please try loading this page with nbviewer.org.</b></div><div class=\"sk-container\" hidden><div class=\"sk-item\"><div class=\"sk-estimator sk-toggleable\"><input class=\"sk-toggleable__control sk-hidden--visually\" id=\"sk-estimator-id-1\" type=\"checkbox\" checked><label for=\"sk-estimator-id-1\" class=\"sk-toggleable__label sk-toggleable__label-arrow\">KMeans</label><div class=\"sk-toggleable__content\"><pre>KMeans(n_clusters=3)</pre></div></div></div></div></div>"
      ],
      "text/plain": [
       "KMeans(n_clusters=3)"
      ]
     },
     "execution_count": 21,
     "metadata": {},
     "output_type": "execute_result"
    }
   ],
   "source": [
    "# Treinamento do modelo com os dados padronizados\n",
    "kmeans.fit(dados_padronizados)"
   ]
  },
  {
   "cell_type": "code",
   "execution_count": 24,
   "id": "35e03206",
   "metadata": {},
   "outputs": [],
   "source": [
    "# Atribuímos os rótulos dos clusters aos clientes\n",
    "# atribuir o cluster a uma nova variavel do df\n",
    "df_dsa['cluster'] = kmeans.labels_"
   ]
  },
  {
   "cell_type": "code",
   "execution_count": 23,
   "id": "8cf7345e",
   "metadata": {},
   "outputs": [
    {
     "data": {
      "text/html": [
       "<div>\n",
       "<style scoped>\n",
       "    .dataframe tbody tr th:only-of-type {\n",
       "        vertical-align: middle;\n",
       "    }\n",
       "\n",
       "    .dataframe tbody tr th {\n",
       "        vertical-align: top;\n",
       "    }\n",
       "\n",
       "    .dataframe thead th {\n",
       "        text-align: right;\n",
       "    }\n",
       "</style>\n",
       "<table border=\"1\" class=\"dataframe\">\n",
       "  <thead>\n",
       "    <tr style=\"text-align: right;\">\n",
       "      <th></th>\n",
       "      <th>id</th>\n",
       "      <th>idade</th>\n",
       "      <th>renda_anual</th>\n",
       "      <th>pontuacao_gastos</th>\n",
       "      <th>cluster</th>\n",
       "    </tr>\n",
       "  </thead>\n",
       "  <tbody>\n",
       "    <tr>\n",
       "      <th>0</th>\n",
       "      <td>1</td>\n",
       "      <td>56</td>\n",
       "      <td>94740</td>\n",
       "      <td>90</td>\n",
       "      <td>1</td>\n",
       "    </tr>\n",
       "    <tr>\n",
       "      <th>1</th>\n",
       "      <td>2</td>\n",
       "      <td>69</td>\n",
       "      <td>136352</td>\n",
       "      <td>50</td>\n",
       "      <td>0</td>\n",
       "    </tr>\n",
       "    <tr>\n",
       "      <th>2</th>\n",
       "      <td>3</td>\n",
       "      <td>46</td>\n",
       "      <td>86617</td>\n",
       "      <td>62</td>\n",
       "      <td>1</td>\n",
       "    </tr>\n",
       "    <tr>\n",
       "      <th>3</th>\n",
       "      <td>4</td>\n",
       "      <td>32</td>\n",
       "      <td>114841</td>\n",
       "      <td>97</td>\n",
       "      <td>1</td>\n",
       "    </tr>\n",
       "    <tr>\n",
       "      <th>4</th>\n",
       "      <td>5</td>\n",
       "      <td>60</td>\n",
       "      <td>36896</td>\n",
       "      <td>51</td>\n",
       "      <td>0</td>\n",
       "    </tr>\n",
       "    <tr>\n",
       "      <th>5</th>\n",
       "      <td>6</td>\n",
       "      <td>25</td>\n",
       "      <td>145729</td>\n",
       "      <td>37</td>\n",
       "      <td>2</td>\n",
       "    </tr>\n",
       "    <tr>\n",
       "      <th>6</th>\n",
       "      <td>7</td>\n",
       "      <td>38</td>\n",
       "      <td>66175</td>\n",
       "      <td>96</td>\n",
       "      <td>1</td>\n",
       "    </tr>\n",
       "    <tr>\n",
       "      <th>7</th>\n",
       "      <td>8</td>\n",
       "      <td>56</td>\n",
       "      <td>27805</td>\n",
       "      <td>87</td>\n",
       "      <td>1</td>\n",
       "    </tr>\n",
       "    <tr>\n",
       "      <th>8</th>\n",
       "      <td>9</td>\n",
       "      <td>36</td>\n",
       "      <td>25237</td>\n",
       "      <td>78</td>\n",
       "      <td>1</td>\n",
       "    </tr>\n",
       "    <tr>\n",
       "      <th>9</th>\n",
       "      <td>10</td>\n",
       "      <td>40</td>\n",
       "      <td>135247</td>\n",
       "      <td>29</td>\n",
       "      <td>2</td>\n",
       "    </tr>\n",
       "  </tbody>\n",
       "</table>\n",
       "</div>"
      ],
      "text/plain": [
       "   id  idade  renda_anual  pontuacao_gastos  cluster\n",
       "0   1     56        94740                90        1\n",
       "1   2     69       136352                50        0\n",
       "2   3     46        86617                62        1\n",
       "3   4     32       114841                97        1\n",
       "4   5     60        36896                51        0\n",
       "5   6     25       145729                37        2\n",
       "6   7     38        66175                96        1\n",
       "7   8     56        27805                87        1\n",
       "8   9     36        25237                78        1\n",
       "9  10     40       135247                29        2"
      ]
     },
     "execution_count": 23,
     "metadata": {},
     "output_type": "execute_result"
    }
   ],
   "source": [
    "# Exibe o resultado (10 primeiras linhas)\n",
    "df_dsa.head(10)"
   ]
  },
  {
   "cell_type": "code",
   "execution_count": 25,
   "id": "86c55c53",
   "metadata": {},
   "outputs": [],
   "source": [
    "# Salvamos o resultado em disco\n",
    "df_dsa.to_csv('dados/segmentos.csv', index = False)"
   ]
  },
  {
   "cell_type": "code",
   "execution_count": null,
   "id": "a02737ba",
   "metadata": {},
   "outputs": [],
   "source": []
  },
  {
   "cell_type": "markdown",
   "id": "1d89d089",
   "metadata": {},
   "source": [
    "## Gerando Relatório dos Segmentos de Clientes com Power BI no Jupyter Notebook"
   ]
  },
  {
   "cell_type": "markdown",
   "id": "4fe8207e",
   "metadata": {},
   "source": [
    "https://pypi.org/project/powerbiclient/"
   ]
  },
  {
   "cell_type": "code",
   "execution_count": 30,
   "id": "652359ca",
   "metadata": {},
   "outputs": [
    {
     "name": "stdout",
     "output_type": "stream",
     "text": [
      "Collecting powerbiclient\n",
      "  Obtaining dependency information for powerbiclient from https://files.pythonhosted.org/packages/95/06/6ca62f807ed6a441d31ab179e708deefa544d128d067aa45e34b39df0728/powerbiclient-3.1.1-py2.py3-none-any.whl.metadata\n",
      "  Using cached powerbiclient-3.1.1-py2.py3-none-any.whl.metadata (3.8 kB)\n",
      "Requirement already satisfied: ipywidgets>=7.0.0 in c:\\users\\gabri\\anaconda3\\lib\\site-packages (from powerbiclient) (8.0.4)\n",
      "Collecting jupyter-ui-poll>=0.1.2 (from powerbiclient)\n",
      "  Obtaining dependency information for jupyter-ui-poll>=0.1.2 from https://files.pythonhosted.org/packages/7a/9b/cbf48a399c78e749c23aa33d51ac97c8f35154846b470907db8d2a40e437/jupyter_ui_poll-1.0.0-py2.py3-none-any.whl.metadata\n",
      "  Using cached jupyter_ui_poll-1.0.0-py2.py3-none-any.whl.metadata (7.3 kB)\n",
      "Collecting msal>=1.8.0 (from powerbiclient)\n",
      "  Obtaining dependency information for msal>=1.8.0 from https://files.pythonhosted.org/packages/ab/82/8f19334da43b7ef72d995587991a446f140346d76edb96a2c1a2689588e9/msal-1.30.0-py3-none-any.whl.metadata\n",
      "  Using cached msal-1.30.0-py3-none-any.whl.metadata (11 kB)\n",
      "Requirement already satisfied: requests>=2.25.1 in c:\\users\\gabri\\anaconda3\\lib\\site-packages (from powerbiclient) (2.31.0)\n",
      "Requirement already satisfied: pandas in c:\\users\\gabri\\anaconda3\\lib\\site-packages (from powerbiclient) (1.5.3)\n",
      "Collecting pyspark (from powerbiclient)\n",
      "  Using cached pyspark-3.5.2.tar.gz (317.3 MB)\n",
      "  Preparing metadata (setup.py): started\n",
      "  Preparing metadata (setup.py): finished with status 'error'\n"
     ]
    },
    {
     "name": "stderr",
     "output_type": "stream",
     "text": [
      "  ERROR: Error [WinError 225] Não foi possível concluir a operação com êxito porque o arquivo contém um vírus ou software possivelmente indesejado while executing command python setup.py egg_info\n",
      "ERROR: Could not install packages due to an OSError: [WinError 225] Não foi possível concluir a operação com êxito porque o arquivo contém um vírus ou software possivelmente indesejado\n",
      "\n"
     ]
    }
   ],
   "source": [
    "# Instala o pacote  \n",
    "!pip install powerbiclient"
   ]
  },
  {
   "cell_type": "code",
   "execution_count": 28,
   "id": "fc4b2edd",
   "metadata": {},
   "outputs": [
    {
     "ename": "ModuleNotFoundError",
     "evalue": "No module named 'powerbiclient'",
     "output_type": "error",
     "traceback": [
      "\u001b[1;31m---------------------------------------------------------------------------\u001b[0m",
      "\u001b[1;31mModuleNotFoundError\u001b[0m                       Traceback (most recent call last)",
      "Cell \u001b[1;32mIn[28], line 2\u001b[0m\n\u001b[0;32m      1\u001b[0m \u001b[38;5;66;03m# Carrega as funções usadas para autenticar e gerar  relatórios\u001b[39;00m\n\u001b[1;32m----> 2\u001b[0m \u001b[38;5;28;01mfrom\u001b[39;00m \u001b[38;5;21;01mpowerbiclient\u001b[39;00m \u001b[38;5;28;01mimport\u001b[39;00m QuickVisualize, get_dataset_config, Report\n\u001b[0;32m      3\u001b[0m \u001b[38;5;28;01mfrom\u001b[39;00m \u001b[38;5;21;01mpowerbiclient\u001b[39;00m\u001b[38;5;21;01m.\u001b[39;00m\u001b[38;5;21;01mauthentication\u001b[39;00m \u001b[38;5;28;01mimport\u001b[39;00m DeviceCodeLoginAuthentication\n",
      "\u001b[1;31mModuleNotFoundError\u001b[0m: No module named 'powerbiclient'"
     ]
    }
   ],
   "source": [
    "# Carrega as funções usadas para autenticar e gerar  relatórios\n",
    "from powerbiclient import QuickVisualize, get_dataset_config, Report\n",
    "from powerbiclient.authentication import DeviceCodeLoginAuthentication"
   ]
  },
  {
   "cell_type": "markdown",
   "id": "21b960cf",
   "metadata": {},
   "source": [
    "**ATENÇÃO**: Para fazer a autenticação é necessário ter uma conta no Power BI Service, criada com e-mail de estudante ou corporativo. Caso você não tenha, apenas acompanhe as aulas e ao final mostraremos como abrir o relatório no Power BI  Desktop, que será fornecido ao final do capítulo."
   ]
  },
  {
   "cell_type": "code",
   "execution_count": 29,
   "id": "f958d58d",
   "metadata": {},
   "outputs": [
    {
     "ename": "NameError",
     "evalue": "name 'DeviceCodeLoginAuthentication' is not defined",
     "output_type": "error",
     "traceback": [
      "\u001b[1;31m---------------------------------------------------------------------------\u001b[0m",
      "\u001b[1;31mNameError\u001b[0m                                 Traceback (most recent call last)",
      "Cell \u001b[1;32mIn[29], line 2\u001b[0m\n\u001b[0;32m      1\u001b[0m \u001b[38;5;66;03m# Define a autenticação no Power BI Service\u001b[39;00m\n\u001b[1;32m----> 2\u001b[0m device_auth \u001b[38;5;241m=\u001b[39m DeviceCodeLoginAuthentication()\n",
      "\u001b[1;31mNameError\u001b[0m: name 'DeviceCodeLoginAuthentication' is not defined"
     ]
    }
   ],
   "source": [
    "# Define a autenticação no Power BI Service\n",
    "device_auth = DeviceCodeLoginAuthentication()"
   ]
  },
  {
   "cell_type": "code",
   "execution_count": null,
   "id": "56a090a5",
   "metadata": {},
   "outputs": [],
   "source": [
    "# Cria o relatório no Power BI\n",
    "relatorio_PBI = QuickVisualize(get_dataset_config(df_dsa), auth = device_auth)"
   ]
  },
  {
   "cell_type": "code",
   "execution_count": null,
   "id": "412f7c5f",
   "metadata": {},
   "outputs": [],
   "source": [
    "# Renderiza (visualiza) o relatório\n",
    "relatorio_PBI"
   ]
  },
  {
   "cell_type": "markdown",
   "id": "447132ba",
   "metadata": {},
   "source": [
    "# Fim"
   ]
  }
 ],
 "metadata": {
  "kernelspec": {
   "display_name": "Python 3 (ipykernel)",
   "language": "python",
   "name": "python3"
  },
  "language_info": {
   "codemirror_mode": {
    "name": "ipython",
    "version": 3
   },
   "file_extension": ".py",
   "mimetype": "text/x-python",
   "name": "python",
   "nbconvert_exporter": "python",
   "pygments_lexer": "ipython3",
   "version": "3.11.4"
  }
 },
 "nbformat": 4,
 "nbformat_minor": 5
}
